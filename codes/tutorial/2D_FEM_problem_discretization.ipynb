{
 "cells": [
  {
   "cell_type": "markdown",
   "metadata": {},
   "source": [
    "## setup and notebook configuration"
   ]
  },
  {
   "cell_type": "code",
   "execution_count": 1,
   "metadata": {},
   "outputs": [],
   "source": [
    "import numpy as np"
   ]
  },
  {
   "cell_type": "code",
   "execution_count": 2,
   "metadata": {},
   "outputs": [
    {
     "name": "stderr",
     "output_type": "stream",
     "text": [
      "/Users/corbin/virtual_envs/FEMexperiment_env/lib/python3.6/site-packages/cmocean/tools.py:76: MatplotlibDeprecationWarning: The is_string_like function was deprecated in version 2.1.\n",
      "  if not mpl.cbook.is_string_like(rgbin[0]):\n"
     ]
    }
   ],
   "source": [
    "# matplotlib \n",
    "import matplotlib as mpl\n",
    "import matplotlib.pyplot as plt\n",
    "import matplotlib.tri as mtri               # delaunay triangulation\n",
    "from mpl_toolkits.mplot3d import Axes3D     # surface plotting\n",
    "import seaborn as sns\n",
    "import cmocean as cmo\n",
    "sns.set()\n",
    "%matplotlib inline"
   ]
  },
  {
   "cell_type": "code",
   "execution_count": 3,
   "metadata": {},
   "outputs": [],
   "source": [
    "%load_ext autoreload\n",
    "%autoreload 2"
   ]
  },
  {
   "cell_type": "code",
   "execution_count": 4,
   "metadata": {},
   "outputs": [
    {
     "name": "stdout",
     "output_type": "stream",
     "text": [
      "Upgrade to   \u001b[92mquadpy 0.12.2\u001b[0m    available! (installed: 0.11.4)\n",
      "\n",
      "\u001b[93mquadpy's API changes in this upgrade. Changes to your code may be necessary.\n",
      "\u001b[0m\n",
      "To disable these checks, set SecondsBetweenChecks in /Users/corbin/Library/Application Support/pipdate/config.ini to -1.\n"
     ]
    }
   ],
   "source": [
    "# local imports\n",
    "import src.msh.mesh as MESH\n",
    "import src.handlers.dof_handler as DOFH\n",
    "import src.fem_base.master.master_2D as MASTER2D\n",
    "import src.fem_base.master.master_1D as MASTER1D\n",
    "import src.fem_maps.fem_map as FEM_MAP"
   ]
  },
  {
   "cell_type": "markdown",
   "metadata": {},
   "source": [
    "# overview"
   ]
  },
  {
   "cell_type": "markdown",
   "metadata": {},
   "source": [
    "# `Mesh2D`"
   ]
  },
  {
   "cell_type": "markdown",
   "metadata": {},
   "source": [
    "This is the re-written MPU `Mesh2D` class."
   ]
  },
  {
   "cell_type": "code",
   "execution_count": 5,
   "metadata": {},
   "outputs": [],
   "source": [
    "tP = np.array(\n",
    "      [[ 1. ,  2. ,  0. ],\n",
    "       [ 1. ,  3. ,  0. ],\n",
    "       [ 1.5,  2. ,  0. ],\n",
    "       [ 1.6,  3.5,  0. ]])\n",
    "\n",
    "tT = np.array(\n",
    "      [[0, 2, 1, -1],\n",
    "       [2, 3, 1, -1]])"
   ]
  },
  {
   "cell_type": "code",
   "execution_count": 6,
   "metadata": {},
   "outputs": [],
   "source": [
    "tri_mesh = MESH.Mesh2D(tT, tP)"
   ]
  },
  {
   "cell_type": "markdown",
   "metadata": {},
   "source": [
    "# `DOFHandler2D`"
   ]
  },
  {
   "cell_type": "code",
   "execution_count": 7,
   "metadata": {},
   "outputs": [],
   "source": [
    "p=3\n",
    "master_tri = MASTER2D.Master2DTriangle(p=p)\n",
    "master_edge = MASTER1D.Master1D(p=p)"
   ]
  },
  {
   "cell_type": "code",
   "execution_count": 8,
   "metadata": {
    "scrolled": true
   },
   "outputs": [
    {
     "data": {
      "image/png": "[encoded data removed]",
      "text/plain": [
       "<Figure size 432x288 with 1 Axes>"
      ]
     },
     "metadata": {},
     "output_type": "display_data"
    }
   ],
   "source": [
    "dofh = DOFH.HDG_dofh(n=p, mesh=tri_mesh, master_elms=[master_tri], master_eds=[master_edge])\n",
    "for elm in range(dofh.n_elm):\n",
    "    x, y = dofh.dgnodes[0][:,0,elm], dofh.dgnodes[0][:,1,elm]\n",
    "    plt.scatter(x, y, alpha=0.7)"
   ]
  },
  {
   "cell_type": "markdown",
   "metadata": {},
   "source": [
    "# Finite Element Mappings"
   ]
  },
  {
   "cell_type": "code",
   "execution_count": 9,
   "metadata": {},
   "outputs": [],
   "source": [
    "# check _jacobian applied to dgnodes on the edge\n",
    "_map = FEM_MAP.Isoparametric_Mapping([master_tri], dofh.dgnodes, map_nodes='NODAL')"
   ]
  },
  {
   "cell_type": "code",
   "execution_count": 10,
   "metadata": {},
   "outputs": [],
   "source": [
    "Ds = master_edge.dshap_nodal\n",
    "ed0 = dofh.dgnodes_ed[0][:,:,1]"
   ]
  },
  {
   "cell_type": "code",
   "execution_count": 11,
   "metadata": {},
   "outputs": [],
   "source": [
    "dxdξ = np.dot(Ds, ed0)"
   ]
  },
  {
   "cell_type": "code",
   "execution_count": 12,
   "metadata": {},
   "outputs": [],
   "source": [
    "dxdξ, dydξ = dxdξ[:,0], dxdξ[:,1]"
   ]
  },
  {
   "cell_type": "code",
   "execution_count": 13,
   "metadata": {},
   "outputs": [],
   "source": [
    "I = np.sqrt(dxdξ**2 + dydξ**2)"
   ]
  },
  {
   "cell_type": "code",
   "execution_count": 14,
   "metadata": {},
   "outputs": [],
   "source": [
    "nrm = 1/np.abs(I)[:,np.newaxis] * np.vstack((dydξ, -dxdξ)).T"
   ]
  },
  {
   "cell_type": "code",
   "execution_count": 15,
   "metadata": {},
   "outputs": [
    {
     "data": {
      "text/plain": [
       "array([[-1.00000000e+00, -2.22044605e-15],\n",
       "       [-1.00000000e+00, -2.22044605e-16],\n",
       "       [-1.00000000e+00,  4.44089210e-16],\n",
       "       [-1.00000000e+00, -0.00000000e+00]])"
      ]
     },
     "execution_count": 15,
     "metadata": {},
     "output_type": "execute_result"
    }
   ],
   "source": [
    "nrm"
   ]
  },
  {
   "cell_type": "code",
   "execution_count": null,
   "metadata": {},
   "outputs": [],
   "source": []
  }
 ],
 "metadata": {
  "kernelspec": {
   "display_name": "FEMexperiment_env",
   "language": "python3",
   "name": "femexperiment_env"
  },
  "language_info": {
   "codemirror_mode": {
    "name": "ipython",
    "version": 3
   },
   "file_extension": ".py",
   "mimetype": "text/x-python",
   "name": "python",
   "nbconvert_exporter": "python",
   "pygments_lexer": "ipython3",
   "version": "3.6.4"
  },
  "toc": {
   "base_numbering": 1,
   "nav_menu": {},
   "number_sections": true,
   "sideBar": true,
   "skip_h1_title": false,
   "title_cell": "Table of Contents",
   "title_sidebar": "Contents",
   "toc_cell": false,
   "toc_position": {},
   "toc_section_display": true,
   "toc_window_display": false
  }
 },
 "nbformat": 4,
 "nbformat_minor": 2
}
