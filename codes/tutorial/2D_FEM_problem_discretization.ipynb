{
 "cells": [
  {
   "cell_type": "markdown",
   "metadata": {},
   "source": [
    "## setup and notebook configuration"
   ]
  },
  {
   "cell_type": "code",
   "execution_count": 1,
   "metadata": {},
   "outputs": [],
   "source": [
    "import numpy as np"
   ]
  },
  {
   "cell_type": "code",
   "execution_count": 2,
   "metadata": {},
   "outputs": [
    {
     "name": "stderr",
     "output_type": "stream",
     "text": [
      "/Users/corbin/virtual_envs/FEMexperiment_env/lib/python3.6/site-packages/cmocean/tools.py:76: MatplotlibDeprecationWarning: The is_string_like function was deprecated in version 2.1.\n",
      "  if not mpl.cbook.is_string_like(rgbin[0]):\n"
     ]
    }
   ],
   "source": [
    "# matplotlib \n",
    "import matplotlib as mpl\n",
    "import matplotlib.pyplot as plt\n",
    "import matplotlib.tri as mtri               # delaunay triangulation\n",
    "from mpl_toolkits.mplot3d import Axes3D     # surface plotting\n",
    "import seaborn as sns\n",
    "import cmocean as cmo\n",
    "sns.set()\n",
    "%matplotlib inline"
   ]
  },
  {
   "cell_type": "code",
   "execution_count": 3,
   "metadata": {},
   "outputs": [],
   "source": [
    "%load_ext autoreload\n",
    "%autoreload 2"
   ]
  },
  {
   "cell_type": "code",
   "execution_count": 4,
   "metadata": {},
   "outputs": [],
   "source": [
    "# local imports\n",
    "import src.msh.mesh as MESH\n",
    "import src.handlers.dof_handler as DOFH\n",
    "import src.fem_base.master.master_2D as MASTER2D\n",
    "import src.fem_base.master.master_1D as MASTER1D"
   ]
  },
  {
   "cell_type": "markdown",
   "metadata": {},
   "source": [
    "# overview"
   ]
  },
  {
   "cell_type": "markdown",
   "metadata": {},
   "source": [
    "# `Mesh2D`"
   ]
  },
  {
   "cell_type": "markdown",
   "metadata": {},
   "source": [
    "This is the re-written MPU `Mesh2D` class."
   ]
  },
  {
   "cell_type": "code",
   "execution_count": 5,
   "metadata": {},
   "outputs": [],
   "source": [
    "tP = np.array(\n",
    "      [[ 1. ,  2. ,  0. ],\n",
    "       [ 1. ,  3. ,  0. ],\n",
    "       [ 1.5,  2. ,  0. ],\n",
    "       [ 1.6,  3.5,  0. ]])\n",
    "\n",
    "tT = np.array(\n",
    "      [[0, 2, 1, -1],\n",
    "       [2, 3, 1, -1]])"
   ]
  },
  {
   "cell_type": "code",
   "execution_count": 6,
   "metadata": {},
   "outputs": [],
   "source": [
    "tri_mesh = MESH.Mesh2D(tT, tP)\n",
    "\n",
    "p=3\n",
    "master_tri = MASTER2D.Master2DTriangle(p=p)\n",
    "master_edge = MASTER1D.Master1D(p=p)"
   ]
  },
  {
   "cell_type": "code",
   "execution_count": 7,
   "metadata": {},
   "outputs": [
    {
     "data": {
      "text/plain": [
       "array([[0, 2, 1],\n",
       "       [2, 3, 1]])"
      ]
     },
     "execution_count": 7,
     "metadata": {},
     "output_type": "execute_result"
    }
   ],
   "source": [
    "tris = tri_mesh.connectivity_by_elm_type(\"TRIANGLE\")\n",
    "tris"
   ]
  },
  {
   "cell_type": "code",
   "execution_count": 8,
   "metadata": {},
   "outputs": [
    {
     "data": {
      "text/plain": [
       "array([[1. , 2. , 0. ],\n",
       "       [1. , 3. , 0. ],\n",
       "       [1.5, 2. , 0. ],\n",
       "       [1.6, 3.5, 0. ]])"
      ]
     },
     "execution_count": 8,
     "metadata": {},
     "output_type": "execute_result"
    }
   ],
   "source": [
    "tri_mesh.vert"
   ]
  },
  {
   "cell_type": "code",
   "execution_count": 9,
   "metadata": {},
   "outputs": [
    {
     "data": {
      "image/png": "[encoded data removed]",
      "text/plain": [
       "<Figure size 432x288 with 1 Axes>"
      ]
     },
     "metadata": {},
     "output_type": "display_data"
    }
   ],
   "source": [
    "verts = tri_mesh.vert[:,:2]\n",
    "plt.scatter(verts[:,0], verts[:,1])\n",
    "for idx, vert in enumerate(verts):\n",
    "    plt.annotate(xy=(vert[0], vert[1]), s=str(idx))"
   ]
  },
  {
   "cell_type": "code",
   "execution_count": 10,
   "metadata": {},
   "outputs": [
    {
     "data": {
      "text/plain": [
       "array([[[1. , 2. ],\n",
       "        [1.5, 2. ],\n",
       "        [1. , 3. ]],\n",
       "\n",
       "       [[1.5, 2. ],\n",
       "        [1.6, 3.5],\n",
       "        [1. , 3. ]]])"
      ]
     },
     "execution_count": 10,
     "metadata": {},
     "output_type": "execute_result"
    }
   ],
   "source": [
    "verts[tris]"
   ]
  },
  {
   "cell_type": "code",
   "execution_count": 11,
   "metadata": {},
   "outputs": [
    {
     "data": {
      "text/plain": [
       "(array([1.5, 2. ]), array([1.6, 3.5]), array([1., 3.]))"
      ]
     },
     "execution_count": 11,
     "metadata": {},
     "output_type": "execute_result"
    }
   ],
   "source": [
    "elm=1\n",
    "tuple(verts[tris][elm,::])"
   ]
  },
  {
   "cell_type": "code",
   "execution_count": 12,
   "metadata": {},
   "outputs": [
    {
     "data": {
      "text/plain": [
       "array([[-1.        ,  1.        ],\n",
       "       [-0.33333333,  0.33333333],\n",
       "       [ 0.33333333, -0.33333333],\n",
       "       [ 1.        , -1.        ],\n",
       "       [-1.        ,  0.33333333],\n",
       "       [-0.33333333, -0.33333333],\n",
       "       [ 0.33333333, -1.        ],\n",
       "       [-1.        , -0.33333333],\n",
       "       [-0.33333333, -1.        ],\n",
       "       [-1.        , -1.        ]])"
      ]
     },
     "execution_count": 12,
     "metadata": {},
     "output_type": "execute_result"
    }
   ],
   "source": [
    "master_tri.nodal_pts"
   ]
  },
  {
   "cell_type": "code",
   "execution_count": 13,
   "metadata": {},
   "outputs": [
    {
     "data": {
      "text/plain": [
       "<matplotlib.collections.PathCollection at 0x10e22eb00>"
      ]
     },
     "execution_count": 13,
     "metadata": {},
     "output_type": "execute_result"
    },
    {
     "data": {
      "image/png": "[encoded data removed]",
      "text/plain": [
       "<Figure size 432x288 with 1 Axes>"
      ]
     },
     "metadata": {},
     "output_type": "display_data"
    }
   ],
   "source": [
    "xn = master_tri.map_to_physical_space(verts[tris][0, ::])\n",
    "plt.scatter(xn[:,0], xn[:,1])"
   ]
  },
  {
   "cell_type": "code",
   "execution_count": 14,
   "metadata": {},
   "outputs": [],
   "source": [
    "tris = tri_mesh.connectivity_by_elm_type(\"TRIANGLE\")\n",
    "quads = tri_mesh.connectivity_by_elm_type(\"QUAD\")"
   ]
  },
  {
   "cell_type": "code",
   "execution_count": 15,
   "metadata": {},
   "outputs": [
    {
     "data": {
      "text/plain": [
       "0"
      ]
     },
     "execution_count": 15,
     "metadata": {},
     "output_type": "execute_result"
    }
   ],
   "source": [
    "tris.size\n",
    "quads.shape[0]"
   ]
  },
  {
   "cell_type": "code",
   "execution_count": 16,
   "metadata": {},
   "outputs": [
    {
     "data": {
      "text/plain": [
       "<matplotlib.collections.PathCollection at 0x10e2993c8>"
      ]
     },
     "execution_count": 16,
     "metadata": {},
     "output_type": "execute_result"
    },
    {
     "data": {
      "image/png": "[encoded data removed]",
      "text/plain": [
       "<Figure size 432x288 with 1 Axes>"
      ]
     },
     "metadata": {},
     "output_type": "display_data"
    }
   ],
   "source": [
    "T = master_edge.map_to_physical_edge()\n",
    "x = np.array([1, 1.5])\n",
    "y = np.array([3, 2])\n",
    "mapped  = np.vstack((np.dot(T, x), np.dot(T, y))).T\n",
    "plt.scatter(mapped[:,0], mapped[:,1])\n"
   ]
  },
  {
   "cell_type": "code",
   "execution_count": 17,
   "metadata": {},
   "outputs": [
    {
     "data": {
      "text/plain": [
       "array([[ 0,  0,  1,  1,  2,  1],\n",
       "       [ 0,  1, -1, -1,  1,  0],\n",
       "       [ 0,  2, -1, -1,  0,  2],\n",
       "       [ 1,  0, -1, -1,  3,  1],\n",
       "       [ 1,  2, -1, -1,  2,  3]])"
      ]
     },
     "execution_count": 17,
     "metadata": {},
     "output_type": "execute_result"
    }
   ],
   "source": [
    "tri_mesh.ed2ed"
   ]
  },
  {
   "cell_type": "code",
   "execution_count": 18,
   "metadata": {},
   "outputs": [],
   "source": [
    "ed = tri_mesh.edge_vertex_numbers()"
   ]
  },
  {
   "cell_type": "code",
   "execution_count": 30,
   "metadata": {},
   "outputs": [],
   "source": [
    "ed_vpts = tri_mesh.edge_vertices()"
   ]
  },
  {
   "cell_type": "code",
   "execution_count": 45,
   "metadata": {},
   "outputs": [
    {
     "data": {
      "text/plain": [
       "(4, 2, 5)"
      ]
     },
     "execution_count": 45,
     "metadata": {},
     "output_type": "execute_result"
    }
   ],
   "source": [
    "shape = ed_vpts.shape\n",
    "pts = np.dot(T, ed_vpts.swapaxes(0, 1).swapaxes(1, 2).reshape(shape[1], shape[0]*shape[2]))\n",
    "pts = pts.reshape(master_edge.nb, shape[2], shape[0])#.swapaxes(0, 1)\n",
    "\n",
    "pts.shape"
   ]
  },
  {
   "cell_type": "code",
   "execution_count": 47,
   "metadata": {},
   "outputs": [
    {
     "data": {
      "image/png": "[encoded data removed]",
      "text/plain": [
       "<Figure size 432x288 with 1 Axes>"
      ]
     },
     "metadata": {},
     "output_type": "display_data"
    }
   ],
   "source": [
    "for ed in range(5):\n",
    "    xy = pts[:,:, ed]\n",
    "    plt.scatter(xy[:,0], xy[:,1], alpha=0.5)"
   ]
  },
  {
   "cell_type": "code",
   "execution_count": 52,
   "metadata": {},
   "outputs": [
    {
     "data": {
      "image/png": "[encoded data removed]",
      "text/plain": [
       "<Figure size 432x288 with 1 Axes>"
      ]
     },
     "metadata": {},
     "output_type": "display_data"
    }
   ],
   "source": [
    "dofh = DOFH.HDG_dofh(n=p, mesh=tri_mesh, master_elms=[master_tri], master_eds=[master_edge])\n",
    "for elm in range(dofh.n_elm):\n",
    "    x, y = dofh.dgnodes[0][:,0,elm], dofh.dgnodes[0][:,1,elm]\n",
    "    plt.scatter(x, y, alpha=0.7)"
   ]
  },
  {
   "cell_type": "code",
   "execution_count": 54,
   "metadata": {},
   "outputs": [
    {
     "data": {
      "text/plain": [
       "(4, 2, 5)"
      ]
     },
     "execution_count": 54,
     "metadata": {},
     "output_type": "execute_result"
    }
   ],
   "source": [
    "dofh.dgnodes_ed[0].shape"
   ]
  },
  {
   "cell_type": "markdown",
   "metadata": {},
   "source": [
    "# `DOFHandler2D`"
   ]
  },
  {
   "cell_type": "code",
   "execution_count": null,
   "metadata": {},
   "outputs": [],
   "source": []
  }
 ],
 "metadata": {
  "kernelspec": {
   "display_name": "FEMexperiment_env",
   "language": "python3",
   "name": "femexperiment_env"
  },
  "language_info": {
   "codemirror_mode": {
    "name": "ipython",
    "version": 3
   },
   "file_extension": ".py",
   "mimetype": "text/x-python",
   "name": "python",
   "nbconvert_exporter": "python",
   "pygments_lexer": "ipython3",
   "version": "3.6.4"
  },
  "toc": {
   "base_numbering": 1,
   "nav_menu": {},
   "number_sections": true,
   "sideBar": true,
   "skip_h1_title": false,
   "title_cell": "Table of Contents",
   "title_sidebar": "Contents",
   "toc_cell": false,
   "toc_position": {},
   "toc_section_display": true,
   "toc_window_display": false
  }
 },
 "nbformat": 4,
 "nbformat_minor": 2
}
