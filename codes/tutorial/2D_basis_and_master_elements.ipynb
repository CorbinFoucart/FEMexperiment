{
 "cells": [
  {
   "cell_type": "markdown",
   "metadata": {},
   "source": [
    "## setup and notebook configuration"
   ]
  },
  {
   "cell_type": "code",
   "execution_count": 1,
   "metadata": {},
   "outputs": [],
   "source": [
    "import numpy as np\n",
    "import time\n",
    "import orthopy"
   ]
  },
  {
   "cell_type": "code",
   "execution_count": null,
   "metadata": {},
   "outputs": [],
   "source": [
    "import matplotlib.pyplot as plt\n",
    "import matplotlib.pyplot as plt\n",
    "import matplotlib.tri as mtri               # delaunay triangulation\n",
    "from mpl_toolkits.mplot3d import Axes3D     # surface plotting\n",
    "import seaborn as sns\n",
    "import cmocean as cmo\n",
    "sns.set()\n",
    "%matplotlib inline\n",
    "%config InlineBackend.figure_format = 'svg'"
   ]
  },
  {
   "cell_type": "code",
   "execution_count": null,
   "metadata": {},
   "outputs": [],
   "source": [
    "import src.fem_base.master.mk_master as mkm\n",
    "import src.plot.matplotlib_utils as mplu"
   ]
  },
  {
   "cell_type": "markdown",
   "metadata": {},
   "source": [
    "# 2D nodal basis"
   ]
  },
  {
   "cell_type": "markdown",
   "metadata": {},
   "source": [
    "## triangle"
   ]
  },
  {
   "cell_type": "markdown",
   "metadata": {},
   "source": [
    "### what's wrong with what's there"
   ]
  },
  {
   "cell_type": "markdown",
   "metadata": {},
   "source": [
    "We will define our master triangle following the strange (but legacy) MPU convention of the points below, which is the opposite way from which the master element is usually defined. Note that \n",
    "- MPU shifts the nodal points -- this is a good thing, but the user should have control over it\n",
    "- there are serious performance issues with high order elements due to the use of sympy and symbolic gram-schmidt as an initialization technique. THERE MUST BE A BETTER WAY\n",
    "\n",
    "\n",
    "We would like to re-write `Master_nodal` to be a bit more modular and flexible, as well as less differently-abled in terms of code organization"
   ]
  },
  {
   "cell_type": "code",
   "execution_count": null,
   "metadata": {},
   "outputs": [],
   "source": [
    "mt = mkm.Master_nodal(order=3, dim=2, element=0)"
   ]
  },
  {
   "cell_type": "code",
   "execution_count": null,
   "metadata": {},
   "outputs": [],
   "source": [
    "fig, ax = plt.subplots()\n",
    "plt.scatter(mt.nodal_pts[:,0], mt.nodal_pts[:,1])\n",
    "ax.axis('equal')\n",
    "plt.show()"
   ]
  },
  {
   "cell_type": "markdown",
   "metadata": {},
   "source": [
    "We can run the following benchmarking code (expensive), and generate a plot of wallclock time for master element initialization.\n",
    "\n",
    "```python\n",
    "master_init_times = []\n",
    "for p in range(1, 11):\n",
    "    start = time.clock()\n",
    "    master_obj = mkm.Master_nodal(order=p, dim=2, element=0)\n",
    "    end = time.clock()\n",
    "    elapsed = end - start\n",
    "    master_init_times.append(elapsed)\n",
    "```"
   ]
  },
  {
   "cell_type": "markdown",
   "metadata": {},
   "source": [
    "from which we plot\n",
    "<img src=\"img/MPU_master_tri_init_times.png\" alt=\"drawing\" style=\"width: 500px;\"/>"
   ]
  },
  {
   "cell_type": "markdown",
   "metadata": {},
   "source": [
    "this is really slow. If we would like to play with higher order elements, we need a more efficient way of initializing these master elements."
   ]
  },
  {
   "cell_type": "markdown",
   "metadata": {},
   "source": [
    "### barycentric coordinate tools"
   ]
  },
  {
   "cell_type": "markdown",
   "metadata": {},
   "source": [
    "The following define the transformation to and from barycentric coordinates from cartesian coords."
   ]
  },
  {
   "cell_type": "code",
   "execution_count": null,
   "metadata": {},
   "outputs": [],
   "source": [
    "# %load -s cart2bary,bary2cart ../src/fem_base/master/barycentric_coord_tools.py\n",
    "def cart2bary(verts, pts):\n",
    "    \"\"\" retrns barycentric coords of pt on a tri w/ vertices verts\n",
    "    @param verts tuple of tuples specifying verts\n",
    "    @param pt  numpy array of point on triangle shape (2, npts)\n",
    "    \"\"\"\n",
    "    npts = pts.shape[1]\n",
    "    _lambda = np.zeros((3, npts))\n",
    "    (x1, y1), (x2, y2), (x3, y3) = verts\n",
    "    T = np.array([[x1 - x3, x2 - x3],\n",
    "                  [y1 - y3, y2 - y3]])\n",
    "    r = np.copy(pts)\n",
    "    r[0,:] -= x3\n",
    "    r[1,:] -= y3\n",
    "\n",
    "    _lambda[:2, :] = np.linalg.solve(T, r)\n",
    "    _lambda[2, :] = 1 - _lambda[0,:] - _lambda[1,:]\n",
    "    return _lambda\n",
    "\n",
    "def bary2cart(verts, _lambda):\n",
    "    \"\"\"converts from barycentric to cartesian coordinates\n",
    "    @param verts  tuple of tuples specifying triangle vertices\n",
    "    @param _lambda array of barycentric points (3, npts)\n",
    "    \"\"\"\n",
    "    npts = _lambda.shape[1]\n",
    "    λ1, λ2, λ3 = _lambda[0,:], _lambda[1,:], _lambda[2,:]\n",
    "    x, y = np.zeros(npts), np.zeros(npts)\n",
    "    (x1, y1), (x2, y2), (x3, y3) = verts\n",
    "    x = λ1*x1 + λ2*x2 + λ3*x3\n",
    "    y = λ1*y1 + λ2*y2 + λ3*y3\n",
    "    return x, y\n"
   ]
  },
  {
   "cell_type": "markdown",
   "metadata": {},
   "source": [
    "The following generates the barycentric coordinates corresponding to uniform nodes on a triangle for a polynomial order $p$."
   ]
  },
  {
   "cell_type": "code",
   "execution_count": null,
   "metadata": {},
   "outputs": [],
   "source": [
    "# %load -s uniform_bary_coords ../src/fem_base/master/barycentric_coord_tools.py\n",
    "def uniform_bary_coords(p):\n",
    "    \"\"\" generate bary coords of uniform nodal pts for tri of order p\"\"\"\n",
    "    N, Np = p, int((p+1)*(p+2)/2)\n",
    "    node = 0\n",
    "    bary = np.zeros((3, Np))\n",
    "    for i in range(N+1):\n",
    "        for j in range(N+1-i):\n",
    "            λ1, λ2 = i/N, j/N\n",
    "            λ3 = 1 - λ1 - λ2\n",
    "            bary[:, node] = np.asarray([λ1, λ2, λ3])\n",
    "            node += 1\n",
    "    return bary\n"
   ]
  },
  {
   "cell_type": "code",
   "execution_count": null,
   "metadata": {},
   "outputs": [],
   "source": [
    "p = 16\n",
    "Np = int((p+1)*(p+2)/2)\n",
    "bary = uniform_bary_coords(p)\n",
    "verts = ((-1, -1), (-1, 1), (1, -1))\n",
    "x, y = bary2cart(verts, bary)"
   ]
  },
  {
   "cell_type": "code",
   "execution_count": null,
   "metadata": {},
   "outputs": [],
   "source": [
    "plt.scatter(x, y)\n",
    "plt.axis('equal')\n",
    "plt.show()"
   ]
  },
  {
   "cell_type": "markdown",
   "metadata": {},
   "source": [
    "### underlying polynomial modal basis"
   ]
  },
  {
   "cell_type": "markdown",
   "metadata": {},
   "source": [
    "We need a way to generalize the 1D orthonormal polynomial basis to that over the standard simplex\n",
    "\n",
    "$$T \\equiv \\{\\mathbf{r}=(\\xi, \\eta) \\mid (\\xi, \\eta) \\leq -1; \\xi+\\eta \\leq0\\}$$\n",
    "\n",
    "such that we can efficiently compute $\\psi_m(\\mathbf{r})$ over $T$. In Hesthaven and Warburton, the suggestion is to use the basis defined by\n",
    "\n",
    "\\begin{align}\n",
    "   m(i,j) &= j + (N+1)i + 1 - \\frac{i}{2}(i-1) \\\\\n",
    "   \\psi_m(\\mathbf{r}) &= \\sqrt{2} P_i(a) \\, P_j^{(2i+1, 0)}(b)\\, (1-b)^i \\\\\n",
    "   &a = 2 \\frac{1+\\xi}{1-\\eta} - 1, b=\\eta\n",
    "\\end{align}\n",
    "\n",
    "Where $P_n^{(\\alpha, \\beta)}$(x) is the familiar $n^{th}$ order Jacobi polynomial over [-1, 1] discussed in depth in the `1D_basis_and_master` tutorial.\n",
    "\n",
    "In order to position points on the triangle, it will be convenient to work in [Barycentric coordinates](https://en.wikipedia.org/wiki/Barycentric_coordinate_system)."
   ]
  },
  {
   "cell_type": "code",
   "execution_count": null,
   "metadata": {},
   "outputs": [],
   "source": [
    "# %load ../src/fem_base/master/polynomials_2D.py\n",
    "#!/usr/bin/env python\n",
    "\n",
    "import numpy as np\n",
    "import orthopy\n",
    "\n",
    "import src.fem_base.master.barycentric_coord_tools as bct\n",
    "from src.fem_base.master.master_2D import MASTER_ELEMENT_VERTICES\n",
    "\n",
    "# define vertices on master elements as specified in master_2D.py\n",
    "MASTER_TRI_VERTS = MASTER_ELEMENT_VERTICES['TRIANGLE']\n",
    "\n",
    "def mk_m2ij(p):\n",
    "    \"\"\" returns a list A for which A[m] = (i,j) for orthopy polynomials psi_m\"\"\"\n",
    "    return [(j,i) for i in range(p) for j in range(i+1)]\n",
    "\n",
    "def ortho_triangle(bary, p):\n",
    "    \"\"\" wraps orthopy, returns tree of orthonormal polys over bary coords\n",
    "    @param bary  barycentric points on a triangle at which to eval polynomials\n",
    "    @param p  the order of the basis -- how many polynomials we want\n",
    "    @retval polys (npts, m) array of psi_m at the npts\n",
    "\n",
    "    orthopy returns a list of arrays, where `out[k]` hosts the `2*k+1`\n",
    "    values of the `k`th level of the tree\n",
    "        (0, 0)\n",
    "        (0, 1)   (1, 1)\n",
    "        (0, 2)   (1, 2)   (2, 2)\n",
    "          ...      ...      ...   (i, j)\n",
    "    so we unpack the (i,j) into the index m via m2ij above.\n",
    "    \"\"\"\n",
    "    m2ij = mk_m2ij(p)\n",
    "    ortho_output = orthopy.triangle.tree(bary, n=p, standardization='normal')\n",
    "    npts, npolys = bary.shape[1], len(m2ij)\n",
    "    polys = np.zeros((npts, npolys))\n",
    "    for m, (i,j) in enumerate(m2ij):\n",
    "        polys[:,m] = ortho_output[j][i,:]\n",
    "    return polys\n",
    "\n",
    "def P_tilde(pts, p, verts=MASTER_TRI_VERTS):\n",
    "    \"\"\" generates the values of the orthonormal modal polynomials at pts r on the reference tri\n",
    "    @param verts  tuple of tuples specifying the CCW vertices of the triangle in question\n",
    "    @param pts  points defined on the triangle defd by verts (npts, 2)\n",
    "    @param p  order of the orthonormal polynomial basis to be generated\n",
    "    \"\"\"\n",
    "    bary_coords = bct.cart2bary(verts, pts.T)\n",
    "    polys = ortho_triangle(bary_coords, p+1)\n",
    "    return polys\n"
   ]
  },
  {
   "cell_type": "code",
   "execution_count": null,
   "metadata": {},
   "outputs": [],
   "source": [
    "xy = np.vstack((x, y)).T\n",
    "xy.shape\n",
    "pp = P_tilde(xy, p)\n",
    "pp.shape, x.shape"
   ]
  },
  {
   "cell_type": "markdown",
   "metadata": {},
   "source": [
    "need a good way of drawing the polys and the shape functions over the reference triangle"
   ]
  },
  {
   "cell_type": "code",
   "execution_count": null,
   "metadata": {},
   "outputs": [],
   "source": [
    "fig = plt.figure()\n",
    "\n",
    "tri = mtri.Triangulation(x, y)\n",
    "ax = fig.add_subplot(1, 1, 1, projection='3d')\n",
    "cax = ax.plot_trisurf(tri, pp[:,7])"
   ]
  },
  {
   "cell_type": "markdown",
   "metadata": {},
   "source": [
    "now let's see if we can make the nodal shape functions."
   ]
  },
  {
   "cell_type": "code",
   "execution_count": null,
   "metadata": {},
   "outputs": [],
   "source": [
    "p = 2\n",
    "Np = int((p+1)*(p+2)/2)\n",
    "bary = uniform_bary_coords(p)\n",
    "verts = ((-1, -1), (-1, 1), (1, -1))\n",
    "xp, yp = bary2cart(verts, bary)\n",
    "xy = np.vstack((xp, yp)).T\n",
    "V2D = P_tilde(xy, p)\n",
    "print(V2D.shape)\n",
    "Ptil = pp[:,0:6]\n",
    "print(Ptil.shape)\n",
    "Vti = np.linalg.inv(V2D.T)\n",
    "yy = np.dot(Vti, Ptil.T)\n",
    "yy.shape"
   ]
  },
  {
   "cell_type": "code",
   "execution_count": null,
   "metadata": {},
   "outputs": [],
   "source": [
    "fig = plt.figure(figsize=(10, 5))\n",
    "data = yy[4,:]\n",
    "\n",
    "nb = yy.shape[0]\n",
    "tri = mtri.Triangulation(x, y)\n",
    "for i in range(nb):\n",
    "    data = yy[i,:]\n",
    "    ax = fig.add_subplot(2, 3, i+1, projection='3d')\n",
    "    ax.set_xticks([-1, 0, 1]); ax.set_yticks([-1,0,1]); ax.set_zticks([0,1]);\n",
    "    cax = ax.plot_trisurf(tri, data, cmap=cmo.cm.balance)\n",
    "    ax.view_init(elev=75, azim=-70)\n",
    "    \n",
    "mplu.add_shared_colorbar(fig, data, cmo.cm.balance)\n",
    "#fig.subplots_adjust(right=0.9)\n",
    "#cbar_ax = fig.add_axes([0.92, 0.15, 0.02, 0.7])\n",
    "#m = mplu.colorbar_data_normed(data, cmo.cm.balance)\n",
    "#fig.colorbar(m, ticks=[0, 1], cax=cbar_ax)\n",
    "plt.show()"
   ]
  },
  {
   "cell_type": "code",
   "execution_count": null,
   "metadata": {},
   "outputs": [],
   "source": [
    "np.max(yy[4,:])"
   ]
  },
  {
   "cell_type": "code",
   "execution_count": null,
   "metadata": {},
   "outputs": [],
   "source": [
    "def xi_eta_to_ab(ξ, η):\n",
    "    \"\"\" function to transform xi, eta coords to a, b\n",
    "    see Hesthaven function 'rstoab'\n",
    "    @param xi, eta vectors of xi, eta pts\n",
    "    \"\"\"\n",
    "    a, b = np.zeros_like(xi), np.zeros_like(eta)\n",
    "    a = 2*(1. + ξ)/(1 - η)\n",
    "    b = η\n",
    "    return a, b"
   ]
  },
  {
   "cell_type": "markdown",
   "metadata": {},
   "source": [
    "## quadrilateral"
   ]
  },
  {
   "cell_type": "markdown",
   "metadata": {},
   "source": [
    "# TODO\n",
    "\n",
    "- unit test where we transform from bary 2 cart 2 bary again"
   ]
  },
  {
   "cell_type": "code",
   "execution_count": null,
   "metadata": {},
   "outputs": [],
   "source": []
  }
 ],
 "metadata": {
  "kernelspec": {
   "display_name": "FEMexperiment_env",
   "language": "python3",
   "name": "femexperiment_env"
  },
  "language_info": {
   "codemirror_mode": {
    "name": "ipython",
    "version": 3
   },
   "file_extension": ".py",
   "mimetype": "text/x-python",
   "name": "python",
   "nbconvert_exporter": "python",
   "pygments_lexer": "ipython3",
   "version": "3.6.4"
  },
  "toc": {
   "base_numbering": 1,
   "nav_menu": {},
   "number_sections": true,
   "sideBar": true,
   "skip_h1_title": false,
   "title_cell": "Table of Contents",
   "title_sidebar": "Contents",
   "toc_cell": false,
   "toc_position": {},
   "toc_section_display": true,
   "toc_window_display": false
  }
 },
 "nbformat": 4,
 "nbformat_minor": 2
}
