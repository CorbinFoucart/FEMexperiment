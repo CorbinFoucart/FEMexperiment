{
 "cells": [
  {
   "cell_type": "markdown",
   "metadata": {},
   "source": [
    "## setup and notebook configuration"
   ]
  },
  {
   "cell_type": "code",
   "execution_count": 1,
   "metadata": {},
   "outputs": [],
   "source": [
    "import numpy as np"
   ]
  },
  {
   "cell_type": "markdown",
   "metadata": {},
   "source": [
    "# overview"
   ]
  },
  {
   "cell_type": "markdown",
   "metadata": {},
   "source": [
    "Discretizing the weak form of a finite element problem involves choosing a mesh, represented by the data structures in the `Mesh1D` class, as well as a space of test and trial functions (which we will take to be the same). The choice of test space defines the placement of the nodal degrees of freedom. In order to either form a linear system for an implicit finite element scheme, or to compute element-local and flux quantities for an explicit scheme, the degrees of freedom must be numbered and kept track of. The `DOFHandler` class contains the data structures which allow for this."
   ]
  },
  {
   "cell_type": "markdown",
   "metadata": {},
   "source": [
    "# `Mesh1D`"
   ]
  },
  {
   "cell_type": "code",
   "execution_count": 8,
   "metadata": {},
   "outputs": [],
   "source": [
    "# %load -s Mesh1D ../src/msh/mesh_1D.py\n",
    "class Mesh1D(object):\n",
    "    def __init__(self, P):\n",
    "        \"\"\" @param P  vertex points, sorted by x position \"\"\"\n",
    "        self.verts = P\n",
    "        self.nElm, self.nVerts, self.nEdges = len(self.verts) - 1, len(self.verts), len(self.verts)\n",
    "        self.connectivity = self.build_T()\n",
    "        connected_one_side = np.bincount(self.connectivity.ravel()) == 1\n",
    "        self.boundary_verts = np.where(connected_one_side)[0]\n",
    "\n",
    "    def build_T(self):\n",
    "        \"\"\" element connectivity array from 1D vertex list \"\"\"\n",
    "        T = np.zeros((self.nElm, 2), dtype=int)\n",
    "        T[:,0] = np.arange(self.nElm)\n",
    "        T[:,1] = np.arange(self.nElm) + 1\n",
    "        return T\n"
   ]
  },
  {
   "cell_type": "markdown",
   "metadata": {},
   "source": [
    "`Mesh1D` represents the base class of meshes for 1D problems. The user need not specify anything other than the vertex points in sorted order, as the connectivity of vertices is handled internally. Vertices are numbered from 0 to `nVerts - 1` sequentially from left to right on the mesh."
   ]
  },
  {
   "cell_type": "markdown",
   "metadata": {},
   "source": [
    "# `DOFHandler1D`"
   ]
  },
  {
   "cell_type": "markdown",
   "metadata": {},
   "source": [
    "In the simplest case, the nodal degrees of freedom (DOF) are positioned by mapping the DOF on the master element to their corresponding locations on every element of the mesh. Each nodal dof is assigned a number.\n",
    "\n",
    "- for continuous Galerkin (CG) schemes, nodes at element boundaries are shared and have a unique global number\n",
    "- for discontinuous Galerkin (DG/HDG) schemes, degrees of freedom on element boundaries are duplicated due to the discontinuous nature of the space of test functions."
   ]
  },
  {
   "cell_type": "code",
   "execution_count": 10,
   "metadata": {},
   "outputs": [],
   "source": [
    "# %load ../src/handlers/dof_handler_1D.py\n",
    "#!/usr/bin/env python\n",
    "\n",
    "class DOFHandler1D(object): pass\n",
    "\n",
    "class DG_DOFHandler1D(DOFHandler1D):\n",
    "    def __init__(self, mesh, master):\n",
    "        self.mesh, self.master = mesh, master\n",
    "        self.n_dof = self.master.nb * self.mesh.nElm\n",
    "        self.dgnodes = self.mk_dgnodes()\n",
    "        self.lg = self.mk_lg()\n",
    "        self.lg_PM = self.mk_minus_plus_lg()\n",
    "        self.nb, self.nElm = self.master.nb, self.mesh.nElm\n",
    "        self.ed2elm = self.mk_ed2elm()\n",
    "\n",
    "    def mk_dgnodes(self):\n",
    "        \"\"\" map master nodal pts to element vertices def'd in self.mesh \"\"\"\n",
    "        dgn = np.zeros((self.master.nb, self.mesh.nElm))\n",
    "        master_nodal_pts = np.squeeze(self.master.nodal_pts)\n",
    "        for elm, elm_verts in enumerate(self.mesh.connectivity):\n",
    "            elm_vert_pts = self.mesh.verts[elm_verts]\n",
    "            elm_width = elm_vert_pts[1] - elm_vert_pts[0]\n",
    "            mapped_pts = elm_vert_pts[0] + (1+master_nodal_pts)/2.*(elm_width)\n",
    "            dgn[:, elm] = mapped_pts\n",
    "        return dgn\n",
    "\n",
    "    def mk_lg(self):\n",
    "        \"\"\" number all dof sequentially by dgnodes \"\"\"\n",
    "        node_numbers = np.arange(np.size(self.dgnodes))\n",
    "        lg = node_numbers.reshape(self.dgnodes.shape, order='F')\n",
    "        return lg\n",
    "\n",
    "    def mk_minus_plus_lg(self):\n",
    "        \"\"\" (-) denotes element interior, (+) denotes exterior\"\"\"\n",
    "        lg_PM = dict()\n",
    "        lg_PM['-'] = self.lg[[0, -1], :].ravel(order='F')\n",
    "        lgP = self.lg[[0, -1],:]\n",
    "        lgP[0, 1: ] -= 1 # shift nodes to left of first\n",
    "        lgP[1, :-1] += 1 # shift nodes to right of last\n",
    "        lg_PM['+'] = lgP.ravel(order='F')\n",
    "        return lg_PM\n",
    "\n",
    "    def mk_ed2elm(self):\n",
    "        \"\"\" internal map holding the indicies to reshape vector of values on faces to\n",
    "        element edge space (2, nElm), duplicating the values on either side of interior faces\n",
    "        \"\"\"\n",
    "        f2elm = np.zeros((2, self.nElm))\n",
    "        faces = np.arange(self.mesh.nEdges)\n",
    "        # numpy magic is doing the following:\n",
    "        # [[0, 1, 2, 3]\n",
    "        #  [0, 1, 2, 3]]  - ravel('F') -> [0, 0, 1, 1, 2, 2, 3, 3]\n",
    "        #  this is close, but ends duplicated. => trim the ends and reshape to f2elm shape\n",
    "        # [[0, 1, 2]\n",
    "        #  [1, 2, 3]]\n",
    "        f2elm = np.vstack((faces, faces)).ravel( order='F')[1:-1].reshape(f2elm.shape, order='F')\n",
    "        return f2elm\n",
    "\n",
    "    def edge2elm_ed(self, arr):\n",
    "        \"\"\" internal method to move edge values (defined on the interfaces)\n",
    "        to values on the \"element edge space\", the edge dof interior to each element\n",
    "        @param arr  array formatted on edge space (nFaces,)\n",
    "        @retval elmEdArr  array formatted on \"element edge space\" (2, nElm)\n",
    "        \"\"\"\n",
    "        return arr[self.ed2elm]\n"
   ]
  },
  {
   "cell_type": "markdown",
   "metadata": {},
   "source": [
    "# TODO\n",
    "\n",
    "- annotation plots showing nodal dof for CG vs DG\n",
    "- index map section, explanation of what LG is, etc\n",
    "- img for CG vs DG nodal dof differences"
   ]
  },
  {
   "cell_type": "code",
   "execution_count": null,
   "metadata": {},
   "outputs": [],
   "source": []
  }
 ],
 "metadata": {
  "kernelspec": {
   "display_name": "FEMexperiment_env",
   "language": "python3",
   "name": "femexperiment_env"
  },
  "language_info": {
   "codemirror_mode": {
    "name": "ipython",
    "version": 3
   },
   "file_extension": ".py",
   "mimetype": "text/x-python",
   "name": "python",
   "nbconvert_exporter": "python",
   "pygments_lexer": "ipython3",
   "version": "3.6.4"
  },
  "toc": {
   "base_numbering": 1,
   "nav_menu": {},
   "number_sections": true,
   "sideBar": true,
   "skip_h1_title": false,
   "title_cell": "Table of Contents",
   "title_sidebar": "Contents",
   "toc_cell": false,
   "toc_position": {},
   "toc_section_display": true,
   "toc_window_display": false
  }
 },
 "nbformat": 4,
 "nbformat_minor": 2
}
