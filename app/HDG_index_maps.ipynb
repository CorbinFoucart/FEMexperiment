{
 "cells": [
  {
   "cell_type": "code",
   "execution_count": 15,
   "metadata": {},
   "outputs": [],
   "source": [
    "import numpy as np\n",
    "import scipy as sp"
   ]
  },
  {
   "cell_type": "code",
   "execution_count": 16,
   "metadata": {},
   "outputs": [
    {
     "name": "stdout",
     "output_type": "stream",
     "text": [
      "The autoreload extension is already loaded. To reload it, use:\n",
      "  %reload_ext autoreload\n"
     ]
    }
   ],
   "source": [
    "%load_ext autoreload\n",
    "%autoreload 2"
   ]
  },
  {
   "cell_type": "code",
   "execution_count": 22,
   "metadata": {},
   "outputs": [],
   "source": [
    "# local imports\n",
    "from src.msh.mesh import Mesh2D\n",
    "from src.handlers.dof_handler import HDG_dofh"
   ]
  },
  {
   "cell_type": "markdown",
   "metadata": {},
   "source": [
    "create a simple mesh"
   ]
  },
  {
   "cell_type": "code",
   "execution_count": 27,
   "metadata": {},
   "outputs": [],
   "source": [
    "# new mesh, mixed rose mesh\n",
    "rP = np.array(\n",
    "      [[ -2.,    2.,  0. ],\n",
    "       [  0.,    8.,  0. ],\n",
    "       [  2.,    2.,  0. ],\n",
    "       [  3.,    0.,  0. ],\n",
    "       [  2.,   -2.,  0. ],\n",
    "       [  0.,   -8.,  0. ],\n",
    "       [ -2.,   -2.,  0. ],\n",
    "       [ -3.,    0.,  0. ]])\n",
    "\n",
    "rT = np.array(\n",
    "      [[0, 1, 2, -1],\n",
    "       [0, 2, 4,  6],\n",
    "       [2, 3, 4, -1],\n",
    "       [4, 5, 6, -1],\n",
    "       [0, 6, 7, -1]])\n",
    "\n",
    "# create the mesh based on the custon con, pts above\n",
    "_rose_mesh = Mesh2D(rT, rP)"
   ]
  },
  {
   "cell_type": "markdown",
   "metadata": {},
   "source": [
    "create the master elements for the mesh"
   ]
  },
  {
   "cell_type": "code",
   "execution_count": 29,
   "metadata": {},
   "outputs": [
    {
     "name": "stdout",
     "output_type": "stream",
     "text": [
      "['__class__', '__delattr__', '__dict__', '__dir__', '__doc__', '__eq__', '__format__', '__ge__', '__getattribute__', '__gt__', '__hash__', '__init__', '__init_subclass__', '__le__', '__lt__', '__module__', '__ne__', '__new__', '__reduce__', '__reduce_ex__', '__repr__', '__setattr__', '__sizeof__', '__str__', '__subclasshook__', '__weakref__', 'dim', 'ed2ed', 'ed_type', 'elm', 'elm2elm', 'elm_type', 'fix', 'get_adjacent_elm', 'get_adjacent_elm_local_edge', 'get_global_vertex_numbers', 'glob2type_ed', 'glob2type_elm', 'ids_exterior_ed', 'ids_exterior_ed_by_type', 'ids_interior_ed', 'ids_interior_ed_by_type', 'in2ex_bd_id', 'n_ed', 'n_ed_type', 'n_elm', 'n_elm_type', 'set_bc_ids', 'u_ed_type', 'u_elm_type', 'vert', 'vertmap', 'vol', 'write_mesh_to_vtk']\n"
     ]
    },
    {
     "data": {
      "text/plain": [
       "0"
      ]
     },
     "execution_count": 29,
     "metadata": {},
     "output_type": "execute_result"
    }
   ],
   "source": [
    "p = 3\n",
    "print(dir(_rose_mesh))\n",
    "_rose_mesh.u_elm_type[_rose_mesh.elm_type[0]]"
   ]
  },
  {
   "cell_type": "code",
   "execution_count": null,
   "metadata": {},
   "outputs": [],
   "source": []
  }
 ],
 "metadata": {
  "kernelspec": {
   "display_name": "FEMexperiment_env",
   "language": "python3",
   "name": "femexperiment_env"
  },
  "language_info": {
   "codemirror_mode": {
    "name": "ipython",
    "version": 3
   },
   "file_extension": ".py",
   "mimetype": "text/x-python",
   "name": "python",
   "nbconvert_exporter": "python",
   "pygments_lexer": "ipython3",
   "version": "3.6.4"
  },
  "toc": {
   "base_numbering": 1,
   "nav_menu": {},
   "number_sections": true,
   "sideBar": true,
   "skip_h1_title": false,
   "title_cell": "Table of Contents",
   "title_sidebar": "Contents",
   "toc_cell": false,
   "toc_position": {},
   "toc_section_display": true,
   "toc_window_display": false
  }
 },
 "nbformat": 4,
 "nbformat_minor": 2
}
