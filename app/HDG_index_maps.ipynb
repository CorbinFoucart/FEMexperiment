{
 "cells": [
  {
   "cell_type": "code",
   "execution_count": 15,
   "metadata": {},
   "outputs": [],
   "source": [
    "import numpy as np\n",
    "import scipy as sp"
   ]
  },
  {
   "cell_type": "code",
   "execution_count": 16,
   "metadata": {},
   "outputs": [
    {
     "name": "stdout",
     "output_type": "stream",
     "text": [
      "The autoreload extension is already loaded. To reload it, use:\n",
      "  %reload_ext autoreload\n"
     ]
    }
   ],
   "source": [
    "%load_ext autoreload\n",
    "%autoreload 2"
   ]
  },
  {
   "cell_type": "code",
   "execution_count": 19,
   "metadata": {},
   "outputs": [
    {
     "ename": "SyntaxError",
     "evalue": "Missing parentheses in call to 'print'. Did you mean print(print \"Input function to set_bcs_ids was 'None'.\" + \\)? (mesh.py, line 1010)",
     "output_type": "error",
     "traceback": [
      "Traceback \u001b[0;36m(most recent call last)\u001b[0m:\n",
      "  File \u001b[1;32m\"/Users/corbin/virtual_envs/FEMexperiment_env/lib/python3.6/site-packages/IPython/core/interactiveshell.py\"\u001b[0m, line \u001b[1;32m2963\u001b[0m, in \u001b[1;35mrun_code\u001b[0m\n    exec(code_obj, self.user_global_ns, self.user_ns)\n",
      "\u001b[0;36m  File \u001b[0;32m\"<ipython-input-19-67f5e585e38e>\"\u001b[0;36m, line \u001b[0;32m2\u001b[0;36m, in \u001b[0;35m<module>\u001b[0;36m\u001b[0m\n\u001b[0;31m    from src.msh.mesh import Mesh2D\u001b[0m\n",
      "\u001b[0;36m  File \u001b[0;32m\"/Users/corbin/CorbinFoucart_repos/FEMexperiment/app/src/msh/mesh.py\"\u001b[0;36m, line \u001b[0;32m1010\u001b[0m\n\u001b[0;31m    print \"Input function to set_bcs_ids was 'None'.\" + \\\u001b[0m\n\u001b[0m                                                    ^\u001b[0m\n\u001b[0;31mSyntaxError\u001b[0m\u001b[0;31m:\u001b[0m Missing parentheses in call to 'print'. Did you mean print(print \"Input function to set_bcs_ids was 'None'.\" + \\)?\n"
     ]
    }
   ],
   "source": [
    "# local imports\n",
    "from src.msh.mesh import Mesh2D\n",
    "from src.handlers.dof_handler import HDG_dofh"
   ]
  },
  {
   "cell_type": "code",
   "execution_count": 18,
   "metadata": {},
   "outputs": [
    {
     "ename": "AttributeError",
     "evalue": "module 'src.msh' has no attribute 'mesh'",
     "output_type": "error",
     "traceback": [
      "\u001b[0;31m---------------------------------------------------------------------------\u001b[0m",
      "\u001b[0;31mAttributeError\u001b[0m                            Traceback (most recent call last)",
      "\u001b[0;32m<ipython-input-18-4efb8d1bb2c0>\u001b[0m in \u001b[0;36m<module>\u001b[0;34m()\u001b[0m\n\u001b[1;32m     18\u001b[0m \u001b[0;34m\u001b[0m\u001b[0m\n\u001b[1;32m     19\u001b[0m \u001b[0;31m# create the mesh based on the custon con, pts above\u001b[0m\u001b[0;34m\u001b[0m\u001b[0;34m\u001b[0m\u001b[0m\n\u001b[0;32m---> 20\u001b[0;31m \u001b[0m_rose_mesh\u001b[0m \u001b[0;34m=\u001b[0m \u001b[0mmsh\u001b[0m\u001b[0;34m.\u001b[0m\u001b[0mmesh\u001b[0m\u001b[0;34m.\u001b[0m\u001b[0mMesh2D\u001b[0m\u001b[0;34m(\u001b[0m\u001b[0mrT\u001b[0m\u001b[0;34m,\u001b[0m \u001b[0mrP\u001b[0m\u001b[0;34m)\u001b[0m\u001b[0;34m\u001b[0m\u001b[0m\n\u001b[0m",
      "\u001b[0;31mAttributeError\u001b[0m: module 'src.msh' has no attribute 'mesh'"
     ]
    }
   ],
   "source": [
    "# new mesh, mixed rose mesh\n",
    "rP = np.array(\n",
    "      [[ -2.,    2.,  0. ],\n",
    "       [  0.,    8.,  0. ],\n",
    "       [  2.,    2.,  0. ],\n",
    "       [  3.,    0.,  0. ],\n",
    "       [  2.,   -2.,  0. ],\n",
    "       [  0.,   -8.,  0. ],\n",
    "       [ -2.,   -2.,  0. ],\n",
    "       [ -3.,    0.,  0. ]])\n",
    "\n",
    "rT = np.array(\n",
    "      [[0, 1, 2, -1],\n",
    "       [0, 2, 4,  6],\n",
    "       [2, 3, 4, -1],\n",
    "       [4, 5, 6, -1],\n",
    "       [0, 6, 7, -1]])\n",
    "\n",
    "# create the mesh based on the custon con, pts above\n",
    "_rose_mesh = Mesh2D(rT, rP)"
   ]
  },
  {
   "cell_type": "code",
   "execution_count": null,
   "metadata": {},
   "outputs": [],
   "source": []
  }
 ],
 "metadata": {
  "kernelspec": {
   "display_name": "FEMexperiment_env",
   "language": "python3",
   "name": "femexperiment_env"
  },
  "language_info": {
   "codemirror_mode": {
    "name": "ipython",
    "version": 3
   },
   "file_extension": ".py",
   "mimetype": "text/x-python",
   "name": "python",
   "nbconvert_exporter": "python",
   "pygments_lexer": "ipython3",
   "version": "3.6.4"
  },
  "toc": {
   "base_numbering": 1,
   "nav_menu": {},
   "number_sections": true,
   "sideBar": true,
   "skip_h1_title": false,
   "title_cell": "Table of Contents",
   "title_sidebar": "Contents",
   "toc_cell": false,
   "toc_position": {},
   "toc_section_display": true,
   "toc_window_display": false
  }
 },
 "nbformat": 4,
 "nbformat_minor": 2
}
