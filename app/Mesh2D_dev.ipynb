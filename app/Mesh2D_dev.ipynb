{
 "cells": [
  {
   "cell_type": "code",
   "execution_count": 1,
   "metadata": {},
   "outputs": [],
   "source": [
    "import numpy as np\n",
    "import scipy as sp\n",
    "import perfplot"
   ]
  },
  {
   "cell_type": "code",
   "execution_count": 23,
   "metadata": {},
   "outputs": [],
   "source": [
    "import matplotlib.pyplot as plt"
   ]
  },
  {
   "cell_type": "code",
   "execution_count": 2,
   "metadata": {},
   "outputs": [],
   "source": [
    "%load_ext autoreload\n",
    "%autoreload 2"
   ]
  },
  {
   "cell_type": "code",
   "execution_count": 7,
   "metadata": {},
   "outputs": [],
   "source": [
    "# local imports\n",
    "from src.msh.mesh import Mesh2D\n",
    "import src.msh.util as mshu\n",
    "import src.pyutil as pyutil"
   ]
  },
  {
   "cell_type": "markdown",
   "metadata": {},
   "source": [
    "# `fix` "
   ]
  },
  {
   "cell_type": "markdown",
   "metadata": {},
   "source": [
    "MPU calls a `fix` function which is supposed to fix a faulty connectivity matrix and remove duplicate nodes.\n",
    "\n",
    "__Why it needs to reworked__:\n",
    "- It's unclear to me why there is a danger of passing a faulty `T, P` array, or why it is this code's job to fix a bad mesh. \n",
    "- `fix` calls the handwritten functions `unique`, `sortrows`, which are potentially unstable reinventions of existing `numpy` library functions, and therefore the \"fixing\" of the mesh becomes to expensive for large meshes.\n",
    "- fix re-orders the elements, which is important for MPI runs; we shold make sure that it's happening in a sensible way\n",
    "\n",
    "It may or may not return the connectivity in counter clockwise order -- this is not mentioned in the function documentation. Let's go through it and figure out what is happening and re-write it in a more sane way."
   ]
  },
  {
   "cell_type": "markdown",
   "metadata": {},
   "source": [
    "## `util.unique`\n",
    "\n",
    "MPU function which finds and returns unique elements, rows, or columns in a 2D numpy array. Except, the `np.unique` function provides an optional keyword argument which specifies the axis to return by -- `np.unique(arr, axis=0)` sorts rows and `np.unique(arr, axis=1)` sorts columns...\n",
    "\n",
    "```Python\n",
    "    # Eliminate duplicate elements\n",
    "    # CM: This will sort the elements by increasing first node number\n",
    "    t = util.unique(t, 'rows')\n",
    "```"
   ]
  },
  {
   "cell_type": "markdown",
   "metadata": {},
   "source": [
    "but is it __really__ that slow? Let's check."
   ]
  },
  {
   "cell_type": "code",
   "execution_count": 6,
   "metadata": {},
   "outputs": [
    {
     "name": "stderr",
     "output_type": "stream",
     "text": [
      "  0%|          | 0/3 [00:00<?, ?it/s]\n",
      "  0%|          | 0/2 [00:00<?, ?it/s]\u001b[A\n",
      "100%|██████████| 2/2 [00:00<00:00, 36.62it/s]\u001b[A\n",
      "  0%|          | 0/2 [00:00<?, ?it/s]\u001b[A\n",
      " 50%|█████     | 1/2 [00:01<00:01,  1.50s/it]\u001b[A\n",
      " 67%|██████▋   | 2/3 [00:01<00:00,  1.24it/s]\u001b[A\n",
      "  0%|          | 0/2 [00:00<?, ?it/s]\u001b[A\n",
      " 50%|█████     | 1/2 [00:13<00:13, 13.65s/it]\u001b[A\n",
      "100%|██████████| 3/3 [00:15<00:00,  5.16s/it]\u001b[A\n"
     ]
    },
    {
     "data": {
      "image/png": "[encoded data removed]",
      "text/plain": [
       "<Figure size 432x288 with 1 Axes>"
      ]
     },
     "metadata": {},
     "output_type": "display_data"
    }
   ],
   "source": [
    "out = perfplot.bench(\n",
    "    setup=lambda n: np.random.randint(n, size=(n, 4)),\n",
    "    kernels=[\n",
    "        lambda a: pyutil.unique(a, 'rows'),\n",
    "        lambda a: np.unique(a, axis=0)\n",
    "    ],\n",
    "    labels=['MPU unique', 'np.unique'],\n",
    "    n_range=[1, 100, 1000],\n",
    "    xlabel='n elements',\n",
    "    logx=True,\n",
    "    logy=True\n",
    ");\n",
    "out.show()"
   ]
  },
  {
   "cell_type": "markdown",
   "metadata": {},
   "source": [
    "Yikes, 2 orders of magnitude slower for meshes of 1000 elements. Ok, so let's cut out calls to that."
   ]
  },
  {
   "cell_type": "markdown",
   "metadata": {},
   "source": [
    "# Mesh test cases"
   ]
  },
  {
   "cell_type": "markdown",
   "metadata": {},
   "source": [
    "mesh with CW elements"
   ]
  },
  {
   "cell_type": "code",
   "execution_count": 52,
   "metadata": {},
   "outputs": [],
   "source": [
    "# new mesh, mixed rose mesh\n",
    "rP = np.array(\n",
    "      [[ -2.,    2.,  0. ],\n",
    "       [  0.,    8.,  0. ],\n",
    "       [  2.,    2.,  0. ],\n",
    "       [  3.,    0.,  0. ],\n",
    "       [  2.,   -2.,  0. ],\n",
    "       [  0.,   -8.,  0. ],\n",
    "       [ -2.,   -2.,  0. ],\n",
    "       [ -3.,    0.,  0. ]])\n",
    "\n",
    "rT = np.array(\n",
    "      [[0, 2, 1, -1],\n",
    "       [0, 4, 2,  6],\n",
    "       [2, 3, 4, -1],\n",
    "       [4, 6, 5, -1],\n",
    "       [0, 6, 7, -1]])\n",
    "\n",
    "# create the mesh based on the custon con, pts above\n",
    "_rose_mesh = Mesh2D(rT, rP)"
   ]
  },
  {
   "cell_type": "code",
   "execution_count": 53,
   "metadata": {},
   "outputs": [
    {
     "data": {
      "text/plain": [
       "array([[ 0,  2,  1, -1],\n",
       "       [ 3,  2,  4, -1],\n",
       "       [ 4,  6,  5, -1],\n",
       "       [ 6,  0,  7, -1],\n",
       "       [ 2,  0,  6,  4]])"
      ]
     },
     "execution_count": 53,
     "metadata": {},
     "output_type": "execute_result"
    }
   ],
   "source": [
    "# bug in the triangle\n",
    "correct_T = np.array(\n",
    "      [[0, 1, 2, -1],\n",
    "       [2, 3, 4, -1],\n",
    "       [4, 5, 6, -1],\n",
    "       [0, 6, 7, -1],\n",
    "       [0, 2, 4,  6]])\n",
    "\n",
    "_rose_mesh.elm"
   ]
  },
  {
   "cell_type": "code",
   "execution_count": 50,
   "metadata": {},
   "outputs": [],
   "source": [
    "def get_nonneg(arr): return arr[arr >= 0]\n",
    "\n",
    "def draw_annotated_elm(ax, T, P, elm):\n",
    "    elmT = get_nonneg(T[elm, :])\n",
    "    pts = P[elmT, :-1]\n",
    "    ax.scatter(pts[:,0], pts[:,1])\n",
    "    for idx, pt in enumerate(pts):\n",
    "        ax.annotate('{}'.format(idx), xy=pt)\n",
    "    return ax"
   ]
  },
  {
   "cell_type": "code",
   "execution_count": 51,
   "metadata": {},
   "outputs": [
    {
     "data": {
      "text/plain": [
       "<matplotlib.axes._subplots.AxesSubplot at 0x10c1e09e8>"
      ]
     },
     "execution_count": 51,
     "metadata": {},
     "output_type": "execute_result"
    },
    {
     "data": {
      "image/png": "[encoded data removed]",
      "text/plain": [
       "<Figure size 432x288 with 1 Axes>"
      ]
     },
     "metadata": {},
     "output_type": "display_data"
    }
   ],
   "source": [
    "washed_T = _rose_mesh.elm\n",
    "washed_P = _rose_mesh.vert\n",
    "\n",
    "fig, ax = plt.subplots()\n",
    "draw_annotated_elm(ax, washed_T, washed_P, 4)"
   ]
  },
  {
   "cell_type": "code",
   "execution_count": 54,
   "metadata": {},
   "outputs": [
    {
     "data": {
      "text/plain": [
       "array([12.,  2., 12.,  2., 16.])"
      ]
     },
     "execution_count": 54,
     "metadata": {},
     "output_type": "execute_result"
    }
   ],
   "source": [
    "_rose_mesh.vol()"
   ]
  },
  {
   "cell_type": "code",
   "execution_count": null,
   "metadata": {},
   "outputs": [],
   "source": []
  }
 ],
 "metadata": {
  "kernelspec": {
   "display_name": "FEMexperiment_env",
   "language": "python3",
   "name": "femexperiment_env"
  },
  "language_info": {
   "codemirror_mode": {
    "name": "ipython",
    "version": 3
   },
   "file_extension": ".py",
   "mimetype": "text/x-python",
   "name": "python",
   "nbconvert_exporter": "python",
   "pygments_lexer": "ipython3",
   "version": "3.6.4"
  },
  "toc": {
   "base_numbering": 1,
   "nav_menu": {},
   "number_sections": true,
   "sideBar": true,
   "skip_h1_title": false,
   "title_cell": "Table of Contents",
   "title_sidebar": "Contents",
   "toc_cell": false,
   "toc_position": {},
   "toc_section_display": true,
   "toc_window_display": false
  }
 },
 "nbformat": 4,
 "nbformat_minor": 2
}
